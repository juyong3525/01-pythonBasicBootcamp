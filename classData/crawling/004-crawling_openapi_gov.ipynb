{
 "cells": [
  {
   "cell_type": "markdown",
   "metadata": {},
   "source": [
    "## 다양한 Open API 사용하기\n",
    "\n",
    "### 정부3.0 공공 데이터 포털 API 사용하기\n",
    "\n",
    "* 공공 데이터 포털 가입하기\n",
    "  - https://www.data.go.kr\n",
    "  - 회원가입 -> 로그인 -> https://www.data.go.kr/dataset/3050988/openapi.do -> 활용신청\n",
    "  - 결국 인증키를 발급받아야 함\n",
    "  \n",
    "   <img src=\"governapi.png\" />  \n",
    "  - 사용법 확인\n",
    "    - https://www.data.go.kr/dataset/3050988/openapi.do -> 활용신청 메뉴 옆에 상세정보 메뉴의 참고문서 확인 (사용 방법 상세 확인)\n",
    "    - https://www.data.go.kr/dataset/3050988/openapi.do -> 활용신청 메뉴 옆에 상세정보 메뉴의 활용사례 확인 \n",
    "    "
   ]
  },
  {
   "cell_type": "markdown",
   "metadata": {},
   "source": [
    "- JSON 이외에 XML 포멧으로 데이터를 다루는 경우도 많음\n",
    "  - XML 관련 내용은 '다양한 데이터 읽기 - XML 파일' 참조"
   ]
  },
  {
   "cell_type": "code",
   "execution_count": 4,
   "metadata": {},
   "outputs": [
    {
     "name": "stdout",
     "output_type": "stream",
     "text": [
      "<?xml version=\"1.0\" encoding=\"UTF-8\"?>\r\n",
      "\r\n",
      "\r\n",
      "\r\n",
      "\r\n",
      "<response>\r\n",
      "\t<header>\r\n",
      "\t\t<resultCode>00</resultCode>\r\n",
      "\t\t<resultMsg>NORMAL SERVICE.</resultMsg>\r\n",
      "\t</header>\r\n",
      "\t<body>\r\n",
      "\t\t<items>\r\n",
      "\t\t\t\r\n",
      "\t\t\t\t<item>\r\n",
      "\t\t\t\t    <dataTime>2021-01-16 15:00</dataTime>\r\n",
      "\t\t\t\t    <cityName>강남구</cityName>\r\n",
      "\t\t\t\t    <so2Value>0.004</so2Value>\r\n",
      "\t\t\t\t    <coValue>0.5</coValue>\r\n",
      "\t\t\t\t    <o3Value>0.030</o3Value>\r\n",
      "\t\t\t\t    <no2Value>0.017</no2Value>\r\n",
      "\t\t\t\t    <pm10Value>51</pm10Value>\r\n",
      "\t\t\t\t    <pm25Value>33</pm25Value>\r\n",
      "\t\t\t\t</item>\r\n",
      "\t\t\t\r\n",
      "\t\t\t\t<item>\r\n",
      "\t\t\t\t    <dataTime>2021-01-16 15:00</dataTime>\r\n",
      "\t\t\t\t    <cityName>강동구</cityName>\r\n",
      "\t\t\t\t    <so2Value>0.004</so2Value>\r\n",
      "\t\t\t\t    <coValue>0.4</coValue>\r\n",
      "\t\t\t\t    <o3Value>0.031</o3Value>\r\n",
      "\t\t\t\t    <no2Value>0.014</no2Value>\r\n",
      "\t\t\t\t    <pm10Value>48</pm10Value>\r\n",
      "\t\t\t\t    <pm25Value>36</pm25Value>\r\n",
      "\t\t\t\t</item>\r\n",
      "\t\t\t\r\n",
      "\t\t\t\t<item>\r\n",
      "\t\t\t\t    <dataTime>2021-01-16 15:00</dataTime>\r\n",
      "\t\t\t\t    <cityName>강북구</cityName>\r\n",
      "\t\t\t\t    <so2Value>0.004</so2Value>\r\n",
      "\t\t\t\t    <coValue>0.4</coValue>\r\n",
      "\t\t\t\t    <o3Value>0.030</o3Value>\r\n",
      "\t\t\t\t    <no2Value>0.009</no2Value>\r\n",
      "\t\t\t\t    <pm10Value>50</pm10Value>\r\n",
      "\t\t\t\t    <pm25Value>31</pm25Value>\r\n",
      "\t\t\t\t</item>\r\n",
      "\t\t\t\r\n",
      "\t\t\t\t<item>\r\n",
      "\t\t\t\t    <dataTime>2021-01-16 15:00</dataTime>\r\n",
      "\t\t\t\t    <cityName>강서구</cityName>\r\n",
      "\t\t\t\t    <so2Value>0.004</so2Value>\r\n",
      "\t\t\t\t    <coValue>0.4</coValue>\r\n",
      "\t\t\t\t    <o3Value>0.036</o3Value>\r\n",
      "\t\t\t\t    <no2Value>0.010</no2Value>\r\n",
      "\t\t\t\t    <pm10Value>50</pm10Value>\r\n",
      "\t\t\t\t    <pm25Value>33</pm25Value>\r\n",
      "\t\t\t\t</item>\r\n",
      "\t\t\t\r\n",
      "\t\t\t\t<item>\r\n",
      "\t\t\t\t    <dataTime>2021-01-16 15:00</dataTime>\r\n",
      "\t\t\t\t    <cityName>관악구</cityName>\r\n",
      "\t\t\t\t    <so2Value>0.003</so2Value>\r\n",
      "\t\t\t\t    <coValue>0.5</coValue>\r\n",
      "\t\t\t\t    <o3Value>0.027</o3Value>\r\n",
      "\t\t\t\t    <no2Value>0.020</no2Value>\r\n",
      "\t\t\t\t    <pm10Value>44</pm10Value>\r\n",
      "\t\t\t\t    <pm25Value>29</pm25Value>\r\n",
      "\t\t\t\t</item>\r\n",
      "\t\t\t\r\n",
      "\t\t\t\t<item>\r\n",
      "\t\t\t\t    <dataTime>2021-01-16 15:00</dataTime>\r\n",
      "\t\t\t\t    <cityName>광진구</cityName>\r\n",
      "\t\t\t\t    <so2Value>0.003</so2Value>\r\n",
      "\t\t\t\t    <coValue>0.4</coValue>\r\n",
      "\t\t\t\t    <o3Value>0.024</o3Value>\r\n",
      "\t\t\t\t    <no2Value>0.014</no2Value>\r\n",
      "\t\t\t\t    <pm10Value>44</pm10Value>\r\n",
      "\t\t\t\t    <pm25Value>30</pm25Value>\r\n",
      "\t\t\t\t</item>\r\n",
      "\t\t\t\r\n",
      "\t\t\t\t<item>\r\n",
      "\t\t\t\t    <dataTime>2021-01-16 15:00</dataTime>\r\n",
      "\t\t\t\t    <cityName>구로구</cityName>\r\n",
      "\t\t\t\t    <so2Value>0.004</so2Value>\r\n",
      "\t\t\t\t    <coValue>0.3</coValue>\r\n",
      "\t\t\t\t    <o3Value>0.032</o3Value>\r\n",
      "\t\t\t\t    <no2Value>0.015</no2Value>\r\n",
      "\t\t\t\t    <pm10Value>39</pm10Value>\r\n",
      "\t\t\t\t    <pm25Value>22</pm25Value>\r\n",
      "\t\t\t\t</item>\r\n",
      "\t\t\t\r\n",
      "\t\t\t\t<item>\r\n",
      "\t\t\t\t    <dataTime>2021-01-16 15:00</dataTime>\r\n",
      "\t\t\t\t    <cityName>금천구</cityName>\r\n",
      "\t\t\t\t    <so2Value>0.004</so2Value>\r\n",
      "\t\t\t\t    <coValue>0.5</coValue>\r\n",
      "\t\t\t\t    <o3Value>0.033</o3Value>\r\n",
      "\t\t\t\t    <no2Value>0.015</no2Value>\r\n",
      "\t\t\t\t    <pm10Value>55</pm10Value>\r\n",
      "\t\t\t\t    <pm25Value>35</pm25Value>\r\n",
      "\t\t\t\t</item>\r\n",
      "\t\t\t\r\n",
      "\t\t\t\t<item>\r\n",
      "\t\t\t\t    <dataTime>2021-01-16 15:00</dataTime>\r\n",
      "\t\t\t\t    <cityName>노원구</cityName>\r\n",
      "\t\t\t\t    <so2Value>0.004</so2Value>\r\n",
      "\t\t\t\t    <coValue>0.4</coValue>\r\n",
      "\t\t\t\t    <o3Value>0.036</o3Value>\r\n",
      "\t\t\t\t    <no2Value>0.011</no2Value>\r\n",
      "\t\t\t\t    <pm10Value>53</pm10Value>\r\n",
      "\t\t\t\t    <pm25Value>38</pm25Value>\r\n",
      "\t\t\t\t</item>\r\n",
      "\t\t\t\r\n",
      "\t\t\t\t<item>\r\n",
      "\t\t\t\t    <dataTime>2021-01-16 15:00</dataTime>\r\n",
      "\t\t\t\t    <cityName>도봉구</cityName>\r\n",
      "\t\t\t\t    <so2Value>0.003</so2Value>\r\n",
      "\t\t\t\t    <coValue>0.3</coValue>\r\n",
      "\t\t\t\t    <o3Value>0.037</o3Value>\r\n",
      "\t\t\t\t    <no2Value>0.007</no2Value>\r\n",
      "\t\t\t\t    <pm10Value>31</pm10Value>\r\n",
      "\t\t\t\t    <pm25Value>23</pm25Value>\r\n",
      "\t\t\t\t</item>\r\n",
      "\t\t\t\r\n",
      "\t\t</items>\r\n",
      "\t\t<numOfRows>10</numOfRows>\r\n",
      "        <pageNo>1</pageNo>\r\n",
      "        <totalCount>600</totalCount>\r\n",
      "\t</body>\r\n",
      "</response>\r\n",
      "\n"
     ]
    }
   ],
   "source": [
    "import requests\n",
    "\n",
    "service_key = 't5LTooOflXuzpwMXf5w6rdTCvKrygwP%2B5dOxxUa9lSkNtIZJqoq73cAcvyNX0%2BAilC6BfBxaCgp35JozX2SkUA%3D%3D'\n",
    "params = '&numOfRows=10&pageNo=1&sidoName=서울&searchCondition=DAILY'\n",
    "open_api = 'http://openapi.airkorea.or.kr/openapi/services/rest/ArpltnInforInqireSvc/getCtprvnMesureSidoLIst?ServiceKey=' + service_key + params\n",
    "\n",
    "res= requests.get(open_api)\n",
    "print(res.text)"
   ]
  },
  {
   "cell_type": "code",
   "execution_count": null,
   "metadata": {},
   "outputs": [],
   "source": []
  },
  {
   "cell_type": "markdown",
   "metadata": {},
   "source": [
    "## 다양한 데이터 읽기 - XML"
   ]
  },
  {
   "cell_type": "markdown",
   "metadata": {},
   "source": [
    "* XML(Extensible Markup Language)\n",
    "  - 특정 목적에 따라 데이터를 태그로 감싸서 마크업하는 범용적인 포멧\n",
    "  - 마크업 언어는 태그 등을 이용하여 데이터의 구조를 기술하는 언어의 한 가지\n",
    "  - 가장 친숙한 마크업 언어가 HTML\n",
    "  - XML은 HTML과 마찬가지로 데이터를 계층 구조로 표현\n",
    "  - XML 기본 구조\n",
    "  <pre>\n",
    "  <태그 속성=\"속성값\">내용</태그>\n",
    "  </pre>"
   ]
  },
  {
   "cell_type": "markdown",
   "metadata": {},
   "source": [
    "    - 태그와 속성은 특정 목적에 따라 임의로 이름을 정해서 사용"
   ]
  },
  {
   "cell_type": "raw",
   "metadata": {},
   "source": [
    "  <product id=\"M001\" price=\"300000\">32인치 LCD 모니터</product>"
   ]
  },
  {
   "cell_type": "markdown",
   "metadata": {},
   "source": [
    "    - 다른 요소와 그룹으로 묶을 수도 있음"
   ]
  },
  {
   "cell_type": "raw",
   "metadata": {},
   "source": [
    "  <products type=\"전자제품?>\n",
    "      <product id=\"M001\" price=\"300000\">32인치 LCD 모니터</product>\n",
    "      <product id=\"M002\" price=\"210000\">24인치 LCD 모니터</product>\n",
    "  </products>"
   ]
  },
  {
   "cell_type": "code",
   "execution_count": 13,
   "metadata": {},
   "outputs": [
    {
     "name": "stdout",
     "output_type": "stream",
     "text": [
      "강남구 51\n",
      "강동구 48\n",
      "강북구 50\n",
      "강서구 50\n",
      "관악구 44\n",
      "광진구 44\n",
      "구로구 39\n",
      "금천구 55\n",
      "노원구 53\n",
      "도봉구 31\n"
     ]
    }
   ],
   "source": [
    "import requests\n",
    "from bs4 import BeautifulSoup\n",
    "\n",
    "service_key = 't5LTooOflXuzpwMXf5w6rdTCvKrygwP%2B5dOxxUa9lSkNtIZJqoq73cAcvyNX0%2BAilC6BfBxaCgp35JozX2SkUA%3D%3D'\n",
    "params = '&numOfRows=10&pageNo=1&sidoName=서울&searchCondition=DAILY'\n",
    "open_api = 'http://openapi.airkorea.or.kr/openapi/services/rest/ArpltnInforInqireSvc/getCtprvnMesureSidoLIst?ServiceKey=' + service_key + params\n",
    "\n",
    "res= requests.get(open_api)\n",
    "soup = BeautifulSoup(res.content, 'html.parser')\n",
    "\n",
    "data = soup.find_all('item')\n",
    "for item in data:\n",
    "    cityname = item.find('cityname')\n",
    "    pm10value = item.find('pm10value')\n",
    "    print(cityname.get_text(), pm10value.get_text())"
   ]
  }
 ],
 "metadata": {
  "kernelspec": {
   "display_name": "Python 3",
   "language": "python",
   "name": "python3"
  },
  "language_info": {
   "codemirror_mode": {
    "name": "ipython",
    "version": 3
   },
   "file_extension": ".py",
   "mimetype": "text/x-python",
   "name": "python",
   "nbconvert_exporter": "python",
   "pygments_lexer": "ipython3",
   "version": "3.8.5"
  },
  "nbTranslate": {
   "displayLangs": [
    "*"
   ],
   "hotkey": "alt-t",
   "langInMainMenu": true,
   "sourceLang": "en",
   "targetLang": "fr",
   "useGoogleTranslate": true
  }
 },
 "nbformat": 4,
 "nbformat_minor": 2
}
