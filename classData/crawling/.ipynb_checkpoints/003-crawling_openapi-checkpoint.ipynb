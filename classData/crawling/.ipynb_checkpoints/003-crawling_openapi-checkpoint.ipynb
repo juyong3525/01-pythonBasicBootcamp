{
 "cells": [
  {
   "cell_type": "markdown",
   "metadata": {},
   "source": [
    "## Open API(Rest API)를 활용한 크롤링\n",
    "\n",
    "### Open API(Rest API)란?\n",
    " - **API:** Application Programming Interface의 약자로, 특정 프로그램을 만들기 위해 제공되는 모듈(함수 등)을 의미\n",
    " - **Open API:** 공개 API라고도 불리우며, 누구나 사용할 수 있도록 공개된 API (주로 Rest API 기술을 많이 사용함)\n",
    " - **Rest API:** Representational State Transfer API의 약자로, HTTP프로토콜을 통해 서버 제공 기능을 사용할 수 있는 함수를 의미\n",
    "   - 일반적으로 XML, JSON의 형태로 응답을 전달(원하는 데이터 추출이 수월)\n",
    "   - [참고 - RestAPI란](http://hyunalee.tistory.com/1)"
   ]
  },
  {
   "cell_type": "markdown",
   "metadata": {},
   "source": [
    "### JSON 이란?\n",
    " - JavaScript Object Notation 줄임말\n",
    " - 웹환경에서 서버와 클라이언트 사이에 데이터를 주고 받을때 많이 사용\n",
    "   - Rest API가 주요한 예제\n",
    " - JSON 포멧 예 <br>\n",
    " { \"id\":\"01\", \"language\": \"Java\", \"edition\": \"third\", \"author\": \"Herbert Schildt\" }\n",
    " <br>\n",
    " <br>\n",
    " \n",
    " - 참고 (https://books.google.co.kr/books?id=euSiAwAAQBAJ&pg=PT1755&lpg=PT1755&dq=json+%EC%9E%A5%EC%A0%90&source=bl&ots=VjTIoOjbTK&sig=3t7MXA7g2CvEi8SyD0-GQVywzw0&hl=ko&sa=X&ved=0ahUKEwiwo8OvxJfWAhXDsJQKHYaBDpI4ChDoAQhVMAg#v=onepage&q=json%20%EC%9E%A5%EC%A0%90&f=false)\n",
    "\n",
    " 출처: http://dpug.tistory.com/67#.WbycWshJaUk [퍼그의 전초기지]"
   ]
  },
  {
   "cell_type": "code",
   "execution_count": 4,
   "metadata": {},
   "outputs": [
    {
     "name": "stdout",
     "output_type": "stream",
     "text": [
      "“갤럭시S21 언팩 홍보에 아이폰이 왜 나와?” 소동 뭐길래? [IT선빵!]\n",
      "https://news.naver.com/main/read.nhn?mode=LSD&mid=sec&sid1=105&oid=016&aid=0001779271\n"
     ]
    }
   ],
   "source": [
    "import json\n",
    "\n",
    "# 네이버 쇼핑에서, android 라는 키워드로 검색한 상품 리스트 결과\n",
    "data = \"\"\"\n",
    "{\n",
    "    \"lastBuildDate\": \"Thu, 14 Jan 2021 16:19:35 +0900\",\n",
    "    \"total\": 23203,\n",
    "    \"start\": 1,\n",
    "    \"display\": 10,\n",
    "    \"items\": [\n",
    "        {\n",
    "            \"title\": \"“갤럭시S21 언팩 홍보에 아이폰이 왜 나와?” 소동 뭐길래? [IT선빵!]\",\n",
    "            \"originallink\": \"http://news.heraldcorp.com/view.php?ud=20210114000869\",\n",
    "            \"link\": \"https://news.naver.com/main/read.nhn?mode=LSD&mid=sec&sid1=105&oid=016&aid=0001779271\",\n",
    "            \"description\": \"지난해 10월 애플 트위터 계정(@AppleSupport)에 올라온 워치운영체계(OS) 홍보에 ‘Twitter for <b>Android</b>(안드로이드에서 올림)’ 문구가 포착, 약 7분여만에 급히 수정됐다. 지난 2018년에는 애플 뮤직 트위터(@AppleMusic)... \",\n",
    "            \"pubDate\": \"Thu, 14 Jan 2021 14:54:00 +0900\"\n",
    "        },\n",
    "        {\n",
    "            \"title\": \"Hyundai Motor Group to Introduce iPhone Digital Key\",\n",
    "            \"originallink\": \"http://www.businesskorea.co.kr/news/articleView.html?idxno=58446\",\n",
    "            \"link\": \"http://www.businesskorea.co.kr/news/articleView.html?idxno=58446\",\n",
    "            \"description\": \"Its digital key is currently limited to Samsung and LG <b>Android</b> smartphones. The group recently... BMW and Apple unveiled it in June last year and <b>Android</b> phone users cannot use the same technology... \",\n",
    "            \"pubDate\": \"Thu, 14 Jan 2021 09:03:00 +0900\"\n",
    "        },\n",
    "        {\n",
    "            \"title\": \"Millions Flock to Telegram and Signal as Fears Grow Over Big Tech\",\n",
    "            \"originallink\": \"https://www.nytimes.com/2021/01/13/technology/telegram-signal-apps-big-tech.html?partner=naver\",\n",
    "            \"link\": \"https://www.nytimes.com/2021/01/13/technology/telegram-signal-apps-big-tech.html?partner=naver\",\n",
    "            \"description\": \"1 app in 70 countries on iOS devices and in 45 countries on <b>Android</b> devices, with India being one of the biggest areas of new user growth. For both Signal and Telegram, new installations came... \",\n",
    "            \"pubDate\": \"Thu, 14 Jan 2021 07:53:00 +0900\"\n",
    "        },\n",
    "        {\n",
    "            \"title\": \"The Capitol Was Just the Start\",\n",
    "            \"originallink\": \"https://www.nytimes.com/2021/01/13/opinion/capitol-riot-internet.html?partner=naver\",\n",
    "            \"link\": \"https://www.nytimes.com/2021/01/13/opinion/capitol-riot-internet.html?partner=naver\",\n",
    "            \"description\": \"To hear more audio stories from publishers like The New York Times, download Audm for iPhone or <b>Android</b>. These were not just the Trump loyalists of lore, that economically marginalized, over... \",\n",
    "            \"pubDate\": \"Thu, 14 Jan 2021 05:02:00 +0900\"\n",
    "        },\n",
    "        {\n",
    "            \"title\": \"4 Ways to Do More With Your Smartphone Camera\",\n",
    "            \"originallink\": \"https://www.nytimes.com/2021/01/13/technology/personaltech/smartphone-camera-do-more.html?partner=naver\",\n",
    "            \"link\": \"https://www.nytimes.com/2021/01/13/technology/personaltech/smartphone-camera-do-more.html?partner=naver\",\n",
    "            \"description\": \"for <b>Android</b> and Apple’s Camera app for the iOS system on its iPhones. Get Hands-Free Help Your... Google Assistant is available for <b>Android</b> and iOS. Apple’s Siri assistant also responds to... \",\n",
    "            \"pubDate\": \"Wed, 13 Jan 2021 23:02:00 +0900\"\n",
    "        },\n",
    "        {\n",
    "            \"title\": \"OnePlus Band release date, features: Rookie fitness tracker receives lac...\",\n",
    "            \"originallink\": \"https://www.econotimes.com/OnePlus-Band-release-date-features-Rookie-fitness-tracker-receives-lackluster-reviews-in-comparison-with-Xiaomi-Mi-Band-5-1600020\",\n",
    "            \"link\": \"https://www.econotimes.com/OnePlus-Band-release-date-features-Rookie-fitness-tracker-receives-lackluster-reviews-in-comparison-with-Xiaomi-Mi-Band-5-1600020\",\n",
    "            \"description\": \"In the experience of <b>Android</b> Authority, the device’s ability to consistently and accurately... Granted that activating all trackers and sensors will drastically decrease battery life, <b>Android</b>... \",\n",
    "            \"pubDate\": \"Wed, 13 Jan 2021 15:09:00 +0900\"\n",
    "        },\n",
    "        {\n",
    "            \"title\": \"현대 아반떼 ‘2021 북미 올해의 차’ 수상…9년만의 재 수상\",\n",
    "            \"originallink\": \"http://www.smartfn.co.kr/view.php?ud=2021011310533095137c01d83724_46\",\n",
    "            \"link\": \"http://www.smartfn.co.kr/view.php?ud=2021011310533095137c01d83724_46\",\n",
    "            \"description\": \"파라메트릭 다이내믹스 디자인을 테마로 한 드라마틱한 4도어 쿠페 룩이 살아있으며 세그먼트 최초로 무선 애플 카플레이(Apple CarPlay ™) 와 안드로이드오토(<b>Android</b> Auto ™), 현대 디지털 키 등 첨단 기능을... \",\n",
    "            \"pubDate\": \"Wed, 13 Jan 2021 10:56:00 +0900\"\n",
    "        },\n",
    "        {\n",
    "            \"title\": \"[CES 2021 All Digital] 교세라(Kyocera) Ultra 5G UW, Ultra-Rught <b>Android</b> ...\",\n",
    "            \"originallink\": \"http://kr.aving.net/news/view.php?articleId=1589079&Branch_ID=kr&rssid=naver&mn_name=news\",\n",
    "            \"link\": \"http://kr.aving.net/news/view.php?articleId=1589079&Branch_ID=kr&rssid=naver&mn_name=news\",\n",
    "            \"description\": \"Kyocera는 Verizon 5G UW(Ultra Wideband) 네트워크를 통해 초내구성과 초고속 속도, 초저 지연성을 제공하는 최초의 DuraForce Ultra 5G UW를 공개했다. DuraForce Ultra 5G는 Kyocera의 10년 이상의 견고한 장치 전문 지식을... \",\n",
    "            \"pubDate\": \"Wed, 13 Jan 2021 10:41:00 +0900\"\n",
    "        },\n",
    "        {\n",
    "            \"title\": \"엘란트라 “2021 북미 올해의 차’\",\n",
    "            \"originallink\": \"http://www.koreatimes.com/article/1345198\",\n",
    "            \"link\": \"http://www.koreatimes.com/article/1345198\",\n",
    "            \"description\": \"글로벌 베스트셀링 모델 엘란트라는 ▲드라마틱한 4도어 쿠페 등 미래를 담아낸 파격 디자인 ▲3세대 신규 플랫폼으로 빚어낸 탄탄한 기본기 ▲동급 최초 무선 Apple CarPlay™/<b>Android</b> Auto™ 및 현대 디지털 키 적용... \",\n",
    "            \"pubDate\": \"Wed, 13 Jan 2021 10:12:00 +0900\"\n",
    "        },\n",
    "        {\n",
    "            \"title\": \"현대차 아반떼 '2021 북미 올해의 차' 수상..SUV 인기 뛰어넘은 성과\",\n",
    "            \"originallink\": \"http://kpenews.com/View.aspx?No=1414649\",\n",
    "            \"link\": \"http://kpenews.com/View.aspx?No=1414649\",\n",
    "            \"description\": \"파라메트릭 다이내믹스 디자인을 테마로 한 드라마틱한 4도어 쿠페 룩이 살아있으며, 세그먼트 최초로 무선 애플 카플레이(Apple CarPlay) 와 안드로이드오토(<b>Android</b> Auto), 현대 디지털 키 등 첨단 기능을 탑재했다.... \",\n",
    "            \"pubDate\": \"Wed, 13 Jan 2021 09:57:00 +0900\"\n",
    "        }\n",
    "    ]\n",
    "}\n",
    "\"\"\"\n",
    "\n",
    "json_data = json.loads(data)\n",
    "print (json_data['items'][0]['title'])\n",
    "print (json_data['items'][0]['link'])\n"
   ]
  },
  {
   "cell_type": "markdown",
   "metadata": {},
   "source": [
    "### 네이버 검색 Open API를 이용한 크롤링 초간단 실습\n",
    " - https://developers.naver.com/main/\n",
    " - [블로그 검색 가이드 문서](https://developers.naver.com/docs/search/blog/)\n",
    "   - 네이버 Open API 이용신청 [참고](http://hnark.tistory.com/135)"
   ]
  },
  {
   "cell_type": "markdown",
   "metadata": {},
   "source": [
    "- postman 설치 (https://www.getpostman.com/downloads/) \n",
    "  - (상세 가이드: http://www.a-mean-blog.com/ko/blog/Node-JS-API/_/API-%ED%85%8C%EC%8A%A4%ED%8A%B8-%ED%94%84%EB%A1%9C%EA%B7%B8%EB%9E%A8-Postman-%EC%84%A4%EC%B9%98%EB%B0%8F-%EA%B0%84%EB%8B%A8-%EC%82%AC%EC%9A%A9%EB%B2%95)\n",
    "\n",
    "- 사용법\n",
    "   1. Sign Up in Postman\n",
    "   2. Insert https://openapi.naver.com/v1/search/news.json?query=스마트 into GET\n",
    "   3. Add X-Naver-Client-Id(key), <font color=\"blue\">CsODwdUTyG9vOI1uIeIf</font>(value) into Headers\n",
    "   4. Add X-Naver-Client-Secret(key), <font color=\"blue\">YmIx0GW8JG</font>(value) into Headers\n",
    "   5. Send\n",
    "   <img src=\"postman.png\" />"
   ]
  },
  {
   "cell_type": "markdown",
   "metadata": {},
   "source": [
    "- [참고: 네이버 Open API HTTP 응답 상태 에러 코드 목록1](https://developers.naver.com/docs/common/openapiguide/#/errorcode.md)\n",
    "- [참고: 일반적인 HTTP 응답 상태 코드](http://ooz.co.kr/260) "
   ]
  },
  {
   "cell_type": "markdown",
   "metadata": {},
   "source": [
    "### 네이버 Open API 사용하기"
   ]
  },
  {
   "cell_type": "code",
   "execution_count": 41,
   "metadata": {
    "scrolled": true
   },
   "outputs": [
    {
     "name": "stdout",
     "output_type": "stream",
     "text": [
      "1 <b>갤럭시S21</b> 사전예약 경쟁…KT도 최고 50만원으로 상향 https://news.naver.com/main/read.nhn?mode=LSD&mid=sec&sid1=105&oid=277&aid=0004829702\n",
      "2 이베이코리아, 삼성전자 '<b>갤럭시 S21</b>' 시리즈 예약 판매 http://www.newslock.co.kr/news/articleView.html?idxno=35314\n",
      "3 <b>갤럭시 S21</b> 사전예약 가격 공개…S20보다 저렴해 https://www.itbiznews.com/news/articleView.html?idxno=28089\n",
      "4 [뉴시스Pic] 사진으로 본 일주일 https://news.naver.com/main/read.nhn?mode=LSD&mid=sec&sid1=102&oid=003&aid=0010297259\n",
      "5 ‘어 애니콜이네!’ 이건희폰 갤버즈 프로 케이스 화제 https://news.naver.com/main/read.nhn?mode=LSD&mid=sec&sid1=105&oid=018&aid=0004830086\n",
      "6 “24만원→50만원” KT ‘<b>갤럭시S21</b>’ 지원금 하루 만에 2배로! https://news.naver.com/main/read.nhn?mode=LSD&mid=sec&sid1=105&oid=016&aid=0001780029\n",
      "7 뉴버스폰, <b>갤럭시S21</b> 공개 사전예약 혜택 진행 http://www.incheonilbo.com/news/articleView.html?idxno=1075736\n",
      "8 <b>갤럭시S21</b> 공개 사전예약 진행, 'S20 BTS·노트20 울트라' 이벤트 진행 http://www.lawissue.co.kr/view.php?ud=2021011609224658636cf2d78c68_12\n",
      "9 삼성카드, 21일까지 '<b>갤럭시S21</b>' 사전예약 구매 혜택 http://www.shinailbo.co.kr/news/articleView.html?idxno=1366593\n",
      "10 삼성전자 '<b>갤럭시 S21</b>' 사전 예약 , 다양한 혜택 제공 https://news.naver.com/main/read.nhn?mode=LSD&mid=sec&sid1=105&oid=468&aid=0000733769\n"
     ]
    }
   ],
   "source": [
    "import requests\n",
    "import pprint\n",
    "\n",
    "client_id = \"ffwHx7CC3Ss4eiUkCspN\"\n",
    "client_secret = \"_3qkPRRwc6\"\n",
    "\n",
    "naver_open_api = \"https://openapi.naver.com/v1/search/news.json?query=갤럭시s21\"\n",
    "header_params = {\"X-Naver-Client-Id\": client_id, \"X-Naver-Client-Secret\": client_secret}\n",
    "res = requests.get(naver_open_api, headers=header_params)\n",
    "\n",
    "if res.status_code == 200:\n",
    "    data = res.json()\n",
    "    for index, item in enumerate(data['items']):\n",
    "        print(index + 1, item['title'], item['link'])\n",
    "else:\n",
    "    print(\"Error Code: \", res.status_code)"
   ]
  },
  {
   "cell_type": "code",
   "execution_count": 61,
   "metadata": {
    "scrolled": true
   },
   "outputs": [],
   "source": [
    "import requests\n",
    "import openpyxl\n",
    "\n",
    "client_id = \"ffwHx7CC3Ss4eiUkCspN\"\n",
    "client_secret = \"_3qkPRRwc6\"\n",
    "start, num = 1, 0\n",
    "\n",
    "excel_file = openpyxl.Workbook()\n",
    "excel_sheet = excel_file.active\n",
    "excel_sheet.column_dimensions['B'].width = 100\n",
    "excel_sheet.column_dimensions['C'].width = 100\n",
    "excel_sheet.append(['랭킹', '제목', '링크'])\n",
    "\n",
    "for i in range(1, 4):\n",
    "    cell = excel_sheet.cell(row=1, column=i)\n",
    "    cell.alignment = openpyxl.styles.Alignment(horizontal='center')\n",
    "\n",
    "for index in range(10):\n",
    "    start_number = start + (index * 100)\n",
    "    naver_open_api = \"https://openapi.naver.com/v1/search/news.json?query=갤럭시노트20&display=100&start=\" + str(start_number)\n",
    "    header_params = {\"X-Naver-Client-Id\": client_id, \"X-Naver-Client-Secret\": client_secret}\n",
    "    res = requests.get(naver_open_api, headers=header_params)\n",
    "\n",
    "    if res.status_code == 200:\n",
    "        data = res.json()\n",
    "        for item in data['items']:\n",
    "            num += 1\n",
    "            excel_sheet.append([num, item['title'], item['link']])\n",
    "    else:\n",
    "        print(\"Error Code: \", res.status_code)\n",
    "\n",
    "excel_file.save('shoppting_with_galaxy.xlsx')\n",
    "excel_file.close()"
   ]
  }
 ],
 "metadata": {
  "kernelspec": {
   "display_name": "Python 3",
   "language": "python",
   "name": "python3"
  },
  "language_info": {
   "codemirror_mode": {
    "name": "ipython",
    "version": 3
   },
   "file_extension": ".py",
   "mimetype": "text/x-python",
   "name": "python",
   "nbconvert_exporter": "python",
   "pygments_lexer": "ipython3",
   "version": "3.8.5"
  },
  "nbTranslate": {
   "displayLangs": [
    "*"
   ],
   "hotkey": "alt-t",
   "langInMainMenu": true,
   "sourceLang": "en",
   "targetLang": "fr",
   "useGoogleTranslate": true
  }
 },
 "nbformat": 4,
 "nbformat_minor": 1
}
